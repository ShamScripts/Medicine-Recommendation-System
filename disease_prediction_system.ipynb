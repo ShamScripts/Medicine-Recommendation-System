{
  "cells": [
    {
      "cell_type": "markdown",
      "metadata": {
        "id": "view-in-github",
        "colab_type": "text"
      },
      "source": [
        "<a href=\"https://colab.research.google.com/github/ShamScripts/Medicine-Recommendation-System/blob/main/disease_prediction_system.ipynb\" target=\"_parent\"><img src=\"https://colab.research.google.com/assets/colab-badge.svg\" alt=\"Open In Colab\"/></a>"
      ]
    },
    {
      "cell_type": "code",
      "source": [
        "# ==========================================\n",
        "# Step 1: Import Libraries and Load Model\n",
        "# ==========================================\n",
        "import pandas as pd\n",
        "import numpy as np\n",
        "import pickle\n",
        "from sklearn.preprocessing import LabelEncoder\n",
        "from fuzzywuzzy import process\n",
        "from sklearn.ensemble import RandomForestClassifier\n",
        "\n",
        "# Load trained Random Forest model\n",
        "with open(\"model/RandomForest.pkl\", \"rb\") as f:\n",
        "    Rf = pickle.load(f)\n"
      ],
      "metadata": {
        "id": "j0BHXnaWgcZS"
      },
      "execution_count": 67,
      "outputs": []
    },
    {
      "cell_type": "code",
      "source": [
        "# ==========================================\n",
        "# Step 2: Load Datasets\n",
        "# ==========================================\n",
        "description = pd.read_csv(\"kaggle_dataset/description.csv\")\n",
        "precautions = pd.read_csv(\"kaggle_dataset/precautions_df.csv\")\n",
        "workout = pd.read_csv(\"kaggle_dataset/workout_df.csv\")\n",
        "symptoms_df = pd.read_csv(\"kaggle_dataset/symptoms_df.csv\")\n",
        "medications = pd.read_csv(\"kaggle_dataset/medications.csv\")\n",
        "diets = pd.read_csv(\"kaggle_dataset/diets.csv\")\n",
        "training_df = pd.read_csv(\"kaggle_dataset/Training.csv\")\n"
      ],
      "metadata": {
        "id": "dX2r7NKmicxk"
      },
      "execution_count": 68,
      "outputs": []
    },
    {
      "cell_type": "code",
      "source": [
        "# ==========================================\n",
        "# Step 3: Define Symptom and Disease Lists\n",
        "# ==========================================\n",
        "symptoms_list_processed = {col.replace('_', ' ').lower(): idx for idx, col in enumerate(training_df.columns[:-1])}\n",
        "le = LabelEncoder()\n",
        "le.fit(training_df['prognosis'])\n",
        "diseases_list = dict(enumerate(le.classes_))\n"
      ],
      "metadata": {
        "id": "hqfflYNXifRC"
      },
      "execution_count": 69,
      "outputs": []
    },
    {
      "cell_type": "code",
      "source": [
        "# ==========================================\n",
        "# Step 4: Helper Functions\n",
        "# ==========================================\n",
        "def correct_spelling(symptom):\n",
        "    matched, score = process.extractOne(symptom.lower(), list(symptoms_list_processed.keys()))\n",
        "    return matched if score >= 80 else None\n",
        "\n",
        "def predicted_value(patient_symptoms):\n",
        "    vector = np.zeros(len(symptoms_list_processed))\n",
        "    for symptom in patient_symptoms:\n",
        "        if symptom in symptoms_list_processed:\n",
        "            vector[symptoms_list_processed[symptom]] = 1\n",
        "    prediction = Rf.predict([vector])[0]\n",
        "    return diseases_list[prediction]\n",
        "\n",
        "def information(predicted_dis):\n",
        "    desc = description[description['Disease'] == predicted_dis]['Description'].values\n",
        "    precaution = precautions[precautions['Disease'] == predicted_dis][['Precaution_1', 'Precaution_2', 'Precaution_3', 'Precaution_4']].values.tolist()\n",
        "    meds = medications[medications['Disease'] == predicted_dis]['Medication'].values\n",
        "    diet = diets[diets['Disease'] == predicted_dis]['Diet'].values\n",
        "    workout_plan = workout[workout['disease'] == predicted_dis]['workout'].values\n",
        "    return (\n",
        "        desc[0] if len(desc) > 0 else \"No description available.\",\n",
        "        precaution if len(precaution) > 0 else [[\"No precautions available.\"]],\n",
        "        meds if len(meds) > 0 else [\"No medication data.\"],\n",
        "        diet if len(diet) > 0 else [\"No diet data.\"],\n",
        "        workout_plan if len(workout_plan) > 0 else [\"No workout data.\"]\n",
        "    )\n"
      ],
      "metadata": {
        "id": "MKovL0B9ihVi"
      },
      "execution_count": 70,
      "outputs": []
    },
    {
      "cell_type": "code",
      "source": [
        "# ==========================================\n",
        "# Step 5: Testing\n",
        "# ==========================================\n",
        "user_input = input(\"Describe your symptoms (comma-separated): \")\n",
        "input_symptoms = [s.strip() for s in user_input.split(',')]\n",
        "\n",
        "corrected_symptoms = []\n",
        "for symptom in input_symptoms:\n",
        "    corrected = correct_spelling(symptom)\n",
        "    if corrected:\n",
        "        corrected_symptoms.append(corrected)\n",
        "    else:\n",
        "        print(f\"Symptom '{symptom}' not recognized.\")\n",
        "\n",
        "if corrected_symptoms:\n",
        "    predicted_disease = predicted_value(corrected_symptoms)\n",
        "    disease_description, disease_precautions, disease_medications, disease_diet, disease_workout = information(predicted_disease)\n",
        "\n",
        "    print(\"\\nPredicted Disease:\", predicted_disease)\n",
        "    print(\"\\nDescription:\\n\", disease_description)\n",
        "\n",
        "    print(\"\\nPrecautions:\")\n",
        "    for i, item in enumerate(disease_precautions[0], 1):\n",
        "        print(f\"{i}. {item}\")\n",
        "\n",
        "    print(\"\\nMedications:\")\n",
        "    for i, med in enumerate(disease_medications, 1):\n",
        "        print(f\"{i}. {med}\")\n",
        "\n",
        "    print(\"\\nWorkout:\")\n",
        "    for i, w in enumerate(disease_workout, 1):\n",
        "        print(f\"{i}. {w}\")\n",
        "\n",
        "    print(\"\\nDiets:\")\n",
        "    for i, d in enumerate(disease_diet, 1):\n",
        "        print(f\"{i}. {d}\")\n",
        "else:\n",
        "    print(\"\\nNo valid symptoms found. Please try again.\")"
      ],
      "metadata": {
        "colab": {
          "base_uri": "https://localhost:8080/"
        },
        "id": "uSnaFMOfijfz",
        "outputId": "ab17e780-cc6d-43ff-b223-063849d7a096"
      },
      "execution_count": 72,
      "outputs": [
        {
          "output_type": "stream",
          "name": "stdout",
          "text": [
            "Describe your symptoms (comma-separated): fever\n",
            "\n",
            "Predicted Disease: AIDS\n",
            "\n",
            "Description:\n",
            " AIDS (Acquired Immunodeficiency Syndrome) is a disease caused by HIV that weakens the immune system.\n",
            "\n",
            "Precautions:\n",
            "1. avoid open cuts\n",
            "2. wear ppe if possible\n",
            "3. consult doctor\n",
            "4. follow up\n",
            "\n",
            "Medications:\n",
            "1. ['Antiretroviral drugs', 'Protease inhibitors', 'Integrase inhibitors', 'Entry inhibitors', 'Fusion inhibitors']\n",
            "\n",
            "Workout:\n",
            "1. Follow a balanced and nutritious diet\n",
            "2. Include lean proteins\n",
            "3. Consume nutrient-rich foods\n",
            "4. Stay hydrated\n",
            "5. Include healthy fats\n",
            "6. Avoid raw or undercooked foods\n",
            "7. Limit sugary foods and beverages\n",
            "8. Consume immune-boosting foods\n",
            "9. Take prescribed supplements\n",
            "10. Consult a healthcare professional\n",
            "\n",
            "Diets:\n",
            "1. ['Balanced Diet', 'Protein-rich foods', 'Fruits and vegetables', 'Whole grains', 'Healthy fats']\n"
          ]
        },
        {
          "output_type": "stream",
          "name": "stderr",
          "text": [
            "/usr/local/lib/python3.11/dist-packages/sklearn/utils/validation.py:2739: UserWarning: X does not have valid feature names, but RandomForestClassifier was fitted with feature names\n",
            "  warnings.warn(\n"
          ]
        }
      ]
    },
    {
      "cell_type": "code",
      "source": [],
      "metadata": {
        "id": "-0oJUz8visTk"
      },
      "execution_count": null,
      "outputs": []
    }
  ],
  "metadata": {
    "kernelspec": {
      "display_name": "Python 3",
      "language": "python",
      "name": "python3"
    },
    "language_info": {
      "codemirror_mode": {
        "name": "ipython",
        "version": 3
      },
      "file_extension": ".py",
      "mimetype": "text/x-python",
      "name": "python",
      "nbconvert_exporter": "python",
      "pygments_lexer": "ipython3",
      "version": "3.12.2"
    },
    "colab": {
      "provenance": [],
      "include_colab_link": true
    }
  },
  "nbformat": 4,
  "nbformat_minor": 0
}